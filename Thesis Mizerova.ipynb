{
 "cells": [
  {
   "cell_type": "markdown",
   "metadata": {},
   "source": [
    "#### I. Collecting images\n",
    "\n",
    "This part contains the code used to collect the dataset of images used in the study."
   ]
  },
  {
   "cell_type": "code",
   "execution_count": 2,
   "metadata": {
    "collapsed": true
   },
   "outputs": [],
   "source": [
    "import requests\n",
    "from lxml import html"
   ]
  },
  {
   "cell_type": "code",
   "execution_count": 9,
   "metadata": {
    "collapsed": true
   },
   "outputs": [],
   "source": [
    "import os\n",
    "import urllib.request\n",
    "import html\n",
    "import re\n",
    "import csv\n",
    "\n",
    "def download_page(pageUrl):  \n",
    "    ### a function that downloads the html code of a page\n",
    "    \n",
    "    user_agent = 'Mozilla/5.0 (Windows NT 6.1; Win64; x64)'  \n",
    "    try:\n",
    "        page = urllib.request.Request(pageUrl, headers={'User-Agent':user_agent})\n",
    "        with urllib.request.urlopen(page) as response:\n",
    "            html1 = response.read().decode('utf-8')\n",
    "    except:\n",
    "        print('Error at', pageUrl)\n",
    "    return html1\n"
   ]
  },
  {
   "cell_type": "code",
   "execution_count": 4,
   "metadata": {
    "collapsed": true
   },
   "outputs": [],
   "source": [
    "from bs4 import BeautifulSoup"
   ]
  },
  {
   "cell_type": "code",
   "execution_count": 94,
   "metadata": {
    "collapsed": true
   },
   "outputs": [],
   "source": [
    "url = \"https://www.google.com/search?newwindow=1&biw=1456&bih=735&tbm=isch&sa=1&ei=yufyXPefEf6Jk74PgtuWoA0&q=%D0%BF%D0%B0%D0%B4%D0%B0%D1%82%D1%8C+%D1%80%D0%B5%D0%B1%D0%B5%D0%BD%D0%BE%D0%BA&oq=%D0%BF%D0%B0%D0%B4%D0%B0%D1%82%D1%8C+%D1%80%D0%B5%D0%B1%D0%B5%D0%BD%D0%BE%D0%BA&gs_l=img.3...32061.32061..32182...0.0..0.62.62.1......0....2j1..gws-wiz-img.eSSr2eLWVts\""
   ]
  },
  {
   "cell_type": "code",
   "execution_count": 95,
   "metadata": {},
   "outputs": [],
   "source": [
    "soup = BeautifulSoup(download_page(url), 'lxml')\n",
    "images = soup.find_all(re.compile('img')) #finds all images in html code"
   ]
  },
  {
   "cell_type": "code",
   "execution_count": 96,
   "metadata": {},
   "outputs": [],
   "source": [
    "i=2081 #image counter\n",
    "folder = 'test1/test' # path to the folder where the images are saved\n",
    "\n",
    "\n",
    "for img in images[1:]:\n",
    "    with open(folder+str(i)+'.jpeg', 'wb') as f:\n",
    "        f.write(requests.get(img['src']).content)\n",
    "        i+=1"
   ]
  },
  {
   "cell_type": "markdown",
   "metadata": {},
   "source": [
    "#### II. Image processing, obtaining vectors.\n",
    "\n",
    "This part includes obtaining vectors by image processing\n"
   ]
  },
  {
   "cell_type": "code",
   "execution_count": 3,
   "metadata": {
    "collapsed": true
   },
   "outputs": [],
   "source": [
    "from scipy.misc import imresize\n",
    "import matplotlib.pyplot as plt\n",
    "\n",
    "%matplotlib inline"
   ]
  },
  {
   "cell_type": "code",
   "execution_count": 4,
   "metadata": {},
   "outputs": [],
   "source": [
    "from PIL import Image"
   ]
  },
  {
   "cell_type": "code",
   "execution_count": 5,
   "metadata": {
    "collapsed": true
   },
   "outputs": [],
   "source": [
    "import numpy as np"
   ]
  },
  {
   "cell_type": "code",
   "execution_count": 6,
   "metadata": {
    "collapsed": true
   },
   "outputs": [],
   "source": [
    "from scipy.spatial import distance"
   ]
  },
  {
   "cell_type": "markdown",
   "metadata": {},
   "source": [
    "Get vectors from color images:"
   ]
  },
  {
   "cell_type": "code",
   "execution_count": 321,
   "metadata": {},
   "outputs": [
    {
     "name": "stderr",
     "output_type": "stream",
     "text": [
      "/Users/kata/anaconda/lib/python3.6/site-packages/scipy/misc/pilutil.py:482: FutureWarning: Conversion of the second argument of issubdtype from `int` to `np.signedinteger` is deprecated. In future, it will be treated as `np.int64 == np.dtype(int).type`.\n",
      "  if issubdtype(ts, int):\n",
      "/Users/kata/anaconda/lib/python3.6/site-packages/scipy/misc/pilutil.py:485: FutureWarning: Conversion of the second argument of issubdtype from `float` to `np.floating` is deprecated. In future, it will be treated as `np.float64 == np.dtype(float).type`.\n",
      "  elif issubdtype(type(size), float):\n"
     ]
    }
   ],
   "source": [
    "vectors = []\n",
    "data  = []\n",
    "folder = 'test1/'\n",
    "\n",
    "for bigram in os.listdir(folder)[2:]:\n",
    "    for image in os.listdir(folder+bigram):\n",
    "        if (image != '.ipynb_checkpoints'):\n",
    "            img = Image.open(folder'+bigram+'/'+image)\n",
    "            img_resized = imresize(img, (100, 100))\n",
    "            if (len(np.ravel(np.asarray(img_resized, dtype='uint8'))) == 30000):\n",
    "                vectors.append(np.ravel(np.asarray(img_resized, dtype='uint8')))\n",
    "                data.append([bigram, image, np.ravel(np.asarray(img_resized, dtype='uint8'))])\n"
   ]
  },
  {
   "cell_type": "markdown",
   "metadata": {},
   "source": [
    "Get vectors from black and white images:"
   ]
  },
  {
   "cell_type": "code",
   "execution_count": null,
   "metadata": {
    "collapsed": true
   },
   "outputs": [],
   "source": [
    "vectors_bw = []\n",
    "data_bw  = []\n",
    "folder = 'test1/'\n",
    "\n",
    "for bigram in os.listdir(folder)[2:]:\n",
    "    for image in os.listdir(folder+bigram):\n",
    "        if (image != '.ipynb_checkpoints'):\n",
    "            img = Image.open(folder'+bigram+'/'+image)\n",
    "            img_resized = imresize(img, (100, 100))\n",
    "            arr = np.asarray(img_resized, dtype='uint8')\n",
    "            x, y, _ = arr.shape\n",
    "            k = np.array([[[0.2989, 0.587, 0.114]]])\n",
    "            arr2 = np.round(np.sum(arr*k, axis=2)).astype(np.uint8).reshape((x, y))\n",
    "            if (len(np.ravel(arr2)) == 10000):\n",
    "                vectors_bw.append(np.ravel(arr2))\n",
    "                data_bw.append([bigram, image, np.ravel(arr2)])"
   ]
  },
  {
   "cell_type": "markdown",
   "metadata": {},
   "source": [
    "Get vectors closest to average vector:"
   ]
  },
  {
   "cell_type": "code",
   "execution_count": 387,
   "metadata": {},
   "outputs": [
    {
     "name": "stderr",
     "output_type": "stream",
     "text": [
      "/Users/kata/anaconda/lib/python3.6/site-packages/scipy/misc/pilutil.py:482: FutureWarning: Conversion of the second argument of issubdtype from `int` to `np.signedinteger` is deprecated. In future, it will be treated as `np.int64 == np.dtype(int).type`.\n",
      "  if issubdtype(ts, int):\n",
      "/Users/kata/anaconda/lib/python3.6/site-packages/scipy/misc/pilutil.py:485: FutureWarning: Conversion of the second argument of issubdtype from `float` to `np.floating` is deprecated. In future, it will be treated as `np.float64 == np.dtype(float).type`.\n",
      "  elif issubdtype(type(size), float):\n"
     ]
    }
   ],
   "source": [
    "data_mean = []\n",
    "\n",
    "for bigram in os.listdir('new/')[1:]:\n",
    "    vect = []\n",
    "    arr = 0\n",
    "    for image in os.listdir('new/'+bigram):\n",
    "        if (image != '.ipynb_checkpoints'):\n",
    "            img = Image.open('new/'+bigram+'/'+image)\n",
    "            img_resized = imresize(img, (100, 100))\n",
    "            if (len(np.ravel(np.asarray(img_resized, dtype='uint8'))) == 30000):\n",
    "                arr+=np.ravel(np.asarray(img_resized, dtype='uint8'))\n",
    "                vect.append([bigram, image, np.ravel(np.asarray(img_resized, dtype='uint8'))])\n",
    "                \n",
    "    mean = arr/len(vect) #average vector\n",
    "    d = float ( \"inf\" )\n",
    "    for v in vect:\n",
    "        if abs(distance.cosine(v[2], mean)) < d:\n",
    "            d = abs(distance.cosine(v[2], mean))\n",
    "            res = v\n",
    "    data_mean.append(res)\n",
    "    "
   ]
  },
  {
   "cell_type": "markdown",
   "metadata": {},
   "source": [
    "Saving data to the table:"
   ]
  },
  {
   "cell_type": "code",
   "execution_count": 11,
   "metadata": {
    "collapsed": true
   },
   "outputs": [],
   "source": [
    "import pandas as pd"
   ]
  },
  {
   "cell_type": "code",
   "execution_count": 431,
   "metadata": {},
   "outputs": [],
   "source": [
    "data = pd.DataFrame(data, columns=['word', 'path', 'vector'])"
   ]
  },
  {
   "cell_type": "code",
   "execution_count": 432,
   "metadata": {},
   "outputs": [
    {
     "data": {
      "text/html": [
       "<div>\n",
       "<style scoped>\n",
       "    .dataframe tbody tr th:only-of-type {\n",
       "        vertical-align: middle;\n",
       "    }\n",
       "\n",
       "    .dataframe tbody tr th {\n",
       "        vertical-align: top;\n",
       "    }\n",
       "\n",
       "    .dataframe thead th {\n",
       "        text-align: right;\n",
       "    }\n",
       "</style>\n",
       "<table border=\"1\" class=\"dataframe\">\n",
       "  <thead>\n",
       "    <tr style=\"text-align: right;\">\n",
       "      <th></th>\n",
       "      <th>word</th>\n",
       "      <th>path</th>\n",
       "      <th>vector</th>\n",
       "    </tr>\n",
       "  </thead>\n",
       "  <tbody>\n",
       "    <tr>\n",
       "      <th>0</th>\n",
       "      <td>активность</td>\n",
       "      <td>test1661.jpeg</td>\n",
       "      <td>[18, 18, 18, 12, 12, 12, 23, 23, 23, 17, 17, 1...</td>\n",
       "    </tr>\n",
       "    <tr>\n",
       "      <th>1</th>\n",
       "      <td>активность</td>\n",
       "      <td>test1663.jpeg</td>\n",
       "      <td>[20, 20, 20, 18, 18, 18, 21, 21, 21, 25, 25, 2...</td>\n",
       "    </tr>\n",
       "    <tr>\n",
       "      <th>2</th>\n",
       "      <td>активность</td>\n",
       "      <td>test1664.jpeg</td>\n",
       "      <td>[243, 238, 235, 243, 238, 235, 243, 238, 235, ...</td>\n",
       "    </tr>\n",
       "    <tr>\n",
       "      <th>3</th>\n",
       "      <td>активность</td>\n",
       "      <td>test1665.jpeg</td>\n",
       "      <td>[6, 7, 0, 10, 5, 0, 17, 3, 0, 26, 0, 0, 35, 0,...</td>\n",
       "    </tr>\n",
       "    <tr>\n",
       "      <th>4</th>\n",
       "      <td>активность</td>\n",
       "      <td>test1666.jpeg</td>\n",
       "      <td>[94, 91, 19, 92, 92, 17, 90, 93, 14, 90, 95, 1...</td>\n",
       "    </tr>\n",
       "  </tbody>\n",
       "</table>\n",
       "</div>"
      ],
      "text/plain": [
       "         word           path  \\\n",
       "0  активность  test1661.jpeg   \n",
       "1  активность  test1663.jpeg   \n",
       "2  активность  test1664.jpeg   \n",
       "3  активность  test1665.jpeg   \n",
       "4  активность  test1666.jpeg   \n",
       "\n",
       "                                              vector  \n",
       "0  [18, 18, 18, 12, 12, 12, 23, 23, 23, 17, 17, 1...  \n",
       "1  [20, 20, 20, 18, 18, 18, 21, 21, 21, 25, 25, 2...  \n",
       "2  [243, 238, 235, 243, 238, 235, 243, 238, 235, ...  \n",
       "3  [6, 7, 0, 10, 5, 0, 17, 3, 0, 26, 0, 0, 35, 0,...  \n",
       "4  [94, 91, 19, 92, 92, 17, 90, 93, 14, 90, 95, 1...  "
      ]
     },
     "execution_count": 432,
     "metadata": {},
     "output_type": "execute_result"
    }
   ],
   "source": [
    "data.head()"
   ]
  },
  {
   "cell_type": "markdown",
   "metadata": {},
   "source": [
    "#### III. Clusterisation"
   ]
  },
  {
   "cell_type": "code",
   "execution_count": 268,
   "metadata": {
    "collapsed": true
   },
   "outputs": [],
   "source": [
    "from sklearn.cluster import AffinityPropagation"
   ]
  },
  {
   "cell_type": "code",
   "execution_count": 208,
   "metadata": {
    "collapsed": true
   },
   "outputs": [],
   "source": [
    "clustering = AffinityPropagation().fit(np.array(vectors1))"
   ]
  },
  {
   "cell_type": "code",
   "execution_count": 209,
   "metadata": {},
   "outputs": [],
   "source": [
    "centers = clustering.cluster_centers_\n",
    "\n",
    "num = len(centers)  + 1\n",
    "\n",
    "#for i in range(1, num):\n",
    "#    plt.subplot(11, 2, i)\n",
    " #   img = np.reshape(centers[i-1, :], (100, 300))\n",
    " #   plt.imshow(img, cmap='Greys')\n",
    " #   plt.axis(\"off\")\n",
    " #   plt.grid(None)"
   ]
  },
  {
   "cell_type": "code",
   "execution_count": 210,
   "metadata": {},
   "outputs": [
    {
     "data": {
      "text/plain": [
       "13"
      ]
     },
     "execution_count": 210,
     "metadata": {},
     "output_type": "execute_result"
    }
   ],
   "source": [
    "len(centers)"
   ]
  },
  {
   "cell_type": "code",
   "execution_count": 331,
   "metadata": {},
   "outputs": [
    {
     "data": {
      "image/png": "[encoded data removed]",
      "text/plain": [
       "<matplotlib.figure.Figure at 0x11f722cc0>"
      ]
     },
     "metadata": {},
     "output_type": "display_data"
    }
   ],
   "source": [
    "center = np.reshape(centers[5], (100, 300))\n",
    "plt.imshow(center, cmap='Greys')\n",
    "plt.grid(None)"
   ]
  },
  {
   "cell_type": "code",
   "execution_count": 221,
   "metadata": {},
   "outputs": [],
   "source": [
    "data['class'] = clustering.labels_"
   ]
  },
  {
   "cell_type": "code",
   "execution_count": 305,
   "metadata": {},
   "outputs": [
    {
     "data": {
      "text/html": [
       "<div>\n",
       "<style scoped>\n",
       "    .dataframe tbody tr th:only-of-type {\n",
       "        vertical-align: middle;\n",
       "    }\n",
       "\n",
       "    .dataframe tbody tr th {\n",
       "        vertical-align: top;\n",
       "    }\n",
       "\n",
       "    .dataframe thead th {\n",
       "        text-align: right;\n",
       "    }\n",
       "</style>\n",
       "<table border=\"1\" class=\"dataframe\">\n",
       "  <thead>\n",
       "    <tr style=\"text-align: right;\">\n",
       "      <th></th>\n",
       "      <th>path</th>\n",
       "      <th>vector</th>\n",
       "      <th>class</th>\n",
       "    </tr>\n",
       "  </thead>\n",
       "  <tbody>\n",
       "    <tr>\n",
       "      <th>0</th>\n",
       "      <td>img0hu.jpeg</td>\n",
       "      <td>[134, 117, 114, 128, 139, 136, 130, 157, 140, ...</td>\n",
       "      <td>2</td>\n",
       "    </tr>\n",
       "    <tr>\n",
       "      <th>1</th>\n",
       "      <td>img100ru.jpeg</td>\n",
       "      <td>[235, 237, 240, 233, 226, 225, 226, 231, 229, ...</td>\n",
       "      <td>24</td>\n",
       "    </tr>\n",
       "    <tr>\n",
       "      <th>2</th>\n",
       "      <td>img100sl.jpeg</td>\n",
       "      <td>[6, 8, 8, 7, 26, 17, 5, 13, 10, 2, 8, 9, 14, 1...</td>\n",
       "      <td>20</td>\n",
       "    </tr>\n",
       "    <tr>\n",
       "      <th>3</th>\n",
       "      <td>img101ru.jpeg</td>\n",
       "      <td>[244, 232, 245, 252, 216, 200, 234, 243, 248, ...</td>\n",
       "      <td>19</td>\n",
       "    </tr>\n",
       "    <tr>\n",
       "      <th>4</th>\n",
       "      <td>img101sl.jpeg</td>\n",
       "      <td>[3, 2, 2, 2, 2, 1, 2, 5, 6, 3, 3, 5, 5, 12, 12...</td>\n",
       "      <td>3</td>\n",
       "    </tr>\n",
       "  </tbody>\n",
       "</table>\n",
       "</div>"
      ],
      "text/plain": [
       "            path                                             vector  class\n",
       "0    img0hu.jpeg  [134, 117, 114, 128, 139, 136, 130, 157, 140, ...      2\n",
       "1  img100ru.jpeg  [235, 237, 240, 233, 226, 225, 226, 231, 229, ...     24\n",
       "2  img100sl.jpeg  [6, 8, 8, 7, 26, 17, 5, 13, 10, 2, 8, 9, 14, 1...     20\n",
       "3  img101ru.jpeg  [244, 232, 245, 252, 216, 200, 234, 243, 248, ...     19\n",
       "4  img101sl.jpeg  [3, 2, 2, 2, 2, 1, 2, 5, 6, 3, 3, 5, 5, 12, 12...      3"
      ]
     },
     "execution_count": 305,
     "metadata": {},
     "output_type": "execute_result"
    }
   ],
   "source": [
    "data.head()"
   ]
  },
  {
   "cell_type": "markdown",
   "metadata": {},
   "source": [
    "The distribution of images in the clusters folder:"
   ]
  },
  {
   "cell_type": "code",
   "execution_count": 92,
   "metadata": {
    "collapsed": true
   },
   "outputs": [],
   "source": [
    "import shutil"
   ]
  },
  {
   "cell_type": "code",
   "execution_count": 372,
   "metadata": {},
   "outputs": [],
   "source": [
    "source = 'test1/'\n",
    "dest = 'with_text/'\n",
    "\n",
    "for i in range(47, 48):\n",
    "    os.makedirs(dest+str(i))\n",
    "    for path in data[data['text_class'] == i-1]['new_path']:\n",
    "        shutil.move(source+path, dest+str(i))"
   ]
  },
  {
   "cell_type": "markdown",
   "metadata": {
    "collapsed": true
   },
   "source": [
    "Testing other clustering:"
   ]
  },
  {
   "cell_type": "code",
   "execution_count": 551,
   "metadata": {
    "collapsed": true
   },
   "outputs": [],
   "source": [
    "from sklearn.cluster import MeanShift\n",
    "clustering = MeanShift().fit(np.array(vectors))"
   ]
  },
  {
   "cell_type": "code",
   "execution_count": 553,
   "metadata": {},
   "outputs": [
    {
     "data": {
      "text/plain": [
       "4"
      ]
     },
     "execution_count": 553,
     "metadata": {},
     "output_type": "execute_result"
    }
   ],
   "source": [
    "len(clustering.cluster_centers_)"
   ]
  },
  {
   "cell_type": "code",
   "execution_count": null,
   "metadata": {
    "collapsed": true
   },
   "outputs": [],
   "source": []
  },
  {
   "cell_type": "markdown",
   "metadata": {
    "collapsed": true
   },
   "source": [
    "#### IV. Combinig text and image vectors"
   ]
  },
  {
   "cell_type": "code",
   "execution_count": 32,
   "metadata": {},
   "outputs": [],
   "source": [
    "f = open('falling_text vectors/falling_wa_ppmi_300_MAC.dm', 'r')"
   ]
  },
  {
   "cell_type": "code",
   "execution_count": 33,
   "metadata": {},
   "outputs": [],
   "source": [
    "a = f.readlines()"
   ]
  },
  {
   "cell_type": "code",
   "execution_count": 34,
   "metadata": {},
   "outputs": [],
   "source": [
    "vectors_text = [] #getting vectors for the bigrams with the verb падать 'to fall'\n",
    "for line in a:\n",
    "    if line.startswith('падать'):\n",
    "        w = line.split('\\t')\n",
    "        vectors_text.append([w[0], w[1:]])"
   ]
  },
  {
   "cell_type": "markdown",
   "metadata": {},
   "source": [
    "Reducing the size of image vectors using SVD method:"
   ]
  },
  {
   "cell_type": "code",
   "execution_count": null,
   "metadata": {
    "collapsed": true
   },
   "outputs": [],
   "source": [
    "from sklearn.decomposition import TruncatedSVD, NMF, PCA\n",
    "\n",
    "\n",
    "ex = Image.open('test1/снег/test101.jpeg')\n",
    "ex_resized = imresize(ex, (100, 100))\n",
    "\n",
    "arr = np.asarray(ex_resized, dtype='uint8')\n",
    "\n",
    "ex = np.ravel(arr).reshape(10, 3000)\n",
    "\n",
    "svd_cv = TruncatedSVD(300)\n",
    "svd_cv.fit(ex)"
   ]
  },
  {
   "cell_type": "code",
   "execution_count": null,
   "metadata": {
    "collapsed": true
   },
   "outputs": [],
   "source": [
    "new_vectors = [] #collecting reduced vectors\n",
    "for vector in data1.vector:\n",
    "    new_vector = svd_cv.transform(vector.reshape(10, 3000))\n",
    "    new_vectors.append(np.ravel(new_vector))\n",
    "\n",
    "len(new_vectors)\n",
    "\n",
    "data1['new_vector'] = new_vectors\n",
    "\n",
    "data.head()"
   ]
  },
  {
   "cell_type": "code",
   "execution_count": 417,
   "metadata": {},
   "outputs": [],
   "source": [
    "final_vectors = []\n",
    "final_data = []\n",
    "text_vectors = []\n",
    "c = []\n",
    "i = 0\n",
    "j = 0\n",
    "for vector in vectors_text:\n",
    "    word = vector[0][7:]\n",
    "    c.append(word)\n",
    "    for img in data1[data1['word'] == word]['new_vector']:\n",
    "        j+=1\n",
    "        text_vector = np.array(vector[1]) \n",
    "        text_vectors.append(text_vector)\n",
    "        final_vectors.append(np.concatenate((img, text_vector), axis = 0))\n",
    "        final_data.append([word, np.concatenate((img, text_vector), axis = 0)])\n",
    "        "
   ]
  },
  {
   "cell_type": "code",
   "execution_count": 27,
   "metadata": {
    "collapsed": true
   },
   "outputs": [],
   "source": [
    "from sklearn.cluster import AffinityPropagation"
   ]
  },
  {
   "cell_type": "code",
   "execution_count": 419,
   "metadata": {
    "collapsed": true
   },
   "outputs": [],
   "source": [
    "clustering = AffinityPropagation().fit(np.array(text_vectors))"
   ]
  },
  {
   "cell_type": "code",
   "execution_count": 420,
   "metadata": {
    "collapsed": true
   },
   "outputs": [],
   "source": [
    "final_data = pd.DataFrame(final_data, columns=['word', 'vector'])"
   ]
  },
  {
   "cell_type": "code",
   "execution_count": 328,
   "metadata": {},
   "outputs": [
    {
     "data": {
      "text/html": [
       "<div>\n",
       "<style scoped>\n",
       "    .dataframe tbody tr th:only-of-type {\n",
       "        vertical-align: middle;\n",
       "    }\n",
       "\n",
       "    .dataframe tbody tr th {\n",
       "        vertical-align: top;\n",
       "    }\n",
       "\n",
       "    .dataframe thead th {\n",
       "        text-align: right;\n",
       "    }\n",
       "</style>\n",
       "<table border=\"1\" class=\"dataframe\">\n",
       "  <thead>\n",
       "    <tr style=\"text-align: right;\">\n",
       "      <th></th>\n",
       "      <th>word</th>\n",
       "      <th>vector</th>\n",
       "    </tr>\n",
       "  </thead>\n",
       "  <tbody>\n",
       "    <tr>\n",
       "      <th>0</th>\n",
       "      <td>снег</td>\n",
       "      <td>[6118.740033278978, 923.0122381254898, -222.09...</td>\n",
       "    </tr>\n",
       "    <tr>\n",
       "      <th>1</th>\n",
       "      <td>снег</td>\n",
       "      <td>[7330.404522325625, 330.46229210685203, -347.5...</td>\n",
       "    </tr>\n",
       "    <tr>\n",
       "      <th>2</th>\n",
       "      <td>снег</td>\n",
       "      <td>[8350.410063265426, -75.86497572496629, -65.57...</td>\n",
       "    </tr>\n",
       "    <tr>\n",
       "      <th>3</th>\n",
       "      <td>снег</td>\n",
       "      <td>[6674.426277221166, 1854.7782149335608, -337.9...</td>\n",
       "    </tr>\n",
       "    <tr>\n",
       "      <th>4</th>\n",
       "      <td>снег</td>\n",
       "      <td>[9301.35615949657, -1423.719443575328, 355.479...</td>\n",
       "    </tr>\n",
       "  </tbody>\n",
       "</table>\n",
       "</div>"
      ],
      "text/plain": [
       "   word                                             vector\n",
       "0  снег  [6118.740033278978, 923.0122381254898, -222.09...\n",
       "1  снег  [7330.404522325625, 330.46229210685203, -347.5...\n",
       "2  снег  [8350.410063265426, -75.86497572496629, -65.57...\n",
       "3  снег  [6674.426277221166, 1854.7782149335608, -337.9...\n",
       "4  снег  [9301.35615949657, -1423.719443575328, 355.479..."
      ]
     },
     "execution_count": 328,
     "metadata": {},
     "output_type": "execute_result"
    }
   ],
   "source": [
    "final_data.head()"
   ]
  },
  {
   "cell_type": "code",
   "execution_count": 421,
   "metadata": {
    "collapsed": true
   },
   "outputs": [],
   "source": [
    "centers = clustering.cluster_centers_"
   ]
  },
  {
   "cell_type": "code",
   "execution_count": 422,
   "metadata": {},
   "outputs": [
    {
     "data": {
      "text/plain": [
       "13"
      ]
     },
     "execution_count": 422,
     "metadata": {},
     "output_type": "execute_result"
    }
   ],
   "source": [
    "len(centers)"
   ]
  },
  {
   "cell_type": "code",
   "execution_count": 423,
   "metadata": {},
   "outputs": [],
   "source": [
    "final_data['text_class'] = clustering.labels_"
   ]
  }
 ],
 "metadata": {
  "kernelspec": {
   "display_name": "Python 3",
   "language": "python",
   "name": "python3"
  },
  "language_info": {
   "codemirror_mode": {
    "name": "ipython",
    "version": 3
   },
   "file_extension": ".py",
   "mimetype": "text/x-python",
   "name": "python",
   "nbconvert_exporter": "python",
   "pygments_lexer": "ipython3",
   "version": "3.6.1"
  }
 },
 "nbformat": 4,
 "nbformat_minor": 2
}
