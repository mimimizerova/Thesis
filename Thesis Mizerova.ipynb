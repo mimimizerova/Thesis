{
 "cells": [
  {
   "cell_type": "markdown",
   "metadata": {},
   "source": [
    "#### I. Collecting images\n",
    "\n",
    "This part contains the code used to collect the dataset of images used in the study."
   ]
  },
  {
   "cell_type": "code",
   "execution_count": 1,
   "metadata": {
    "collapsed": true
   },
   "outputs": [],
   "source": [
    "import requests\n",
    "from lxml import html"
   ]
  },
  {
   "cell_type": "code",
   "execution_count": 2,
   "metadata": {
    "collapsed": true
   },
   "outputs": [],
   "source": [
    "import os\n",
    "import urllib.request\n",
    "import html\n",
    "import re\n",
    "import csv\n",
    "\n",
    "def download_page(pageUrl):  \n",
    "    ### a function that downloads the html code of a page\n",
    "    \n",
    "    user_agent = 'Mozilla/5.0 (Windows NT 6.1; Win64; x64)'  \n",
    "    try:\n",
    "        page = urllib.request.Request(pageUrl, headers={'User-Agent':user_agent})\n",
    "        with urllib.request.urlopen(page) as response:\n",
    "            html1 = response.read().decode('utf-8')\n",
    "    except:\n",
    "        print('Error at', pageUrl)\n",
    "    return html1\n"
   ]
  },
  {
   "cell_type": "code",
   "execution_count": 3,
   "metadata": {
    "collapsed": true
   },
   "outputs": [],
   "source": [
    "from bs4 import BeautifulSoup"
   ]
  },
  {
   "cell_type": "code",
   "execution_count": 4,
   "metadata": {
    "collapsed": true
   },
   "outputs": [],
   "source": [
    "url = \"https://www.google.com/search?newwindow=1&biw=1456&bih=735&tbm=isch&sa=1&ei=yufyXPefEf6Jk74PgtuWoA0&q=%D0%BF%D0%B0%D0%B4%D0%B0%D1%82%D1%8C+%D1%80%D0%B5%D0%B1%D0%B5%D0%BD%D0%BE%D0%BA&oq=%D0%BF%D0%B0%D0%B4%D0%B0%D1%82%D1%8C+%D1%80%D0%B5%D0%B1%D0%B5%D0%BD%D0%BE%D0%BA&gs_l=img.3...32061.32061..32182...0.0..0.62.62.1......0....2j1..gws-wiz-img.eSSr2eLWVts\""
   ]
  },
  {
   "cell_type": "code",
   "execution_count": 5,
   "metadata": {
    "collapsed": true
   },
   "outputs": [],
   "source": [
    "soup = BeautifulSoup(download_page(url), 'lxml')\n",
    "images = soup.find_all(re.compile('img')) #finds all images in html code"
   ]
  },
  {
   "cell_type": "code",
   "execution_count": 6,
   "metadata": {
    "collapsed": true
   },
   "outputs": [],
   "source": [
    "i=2081 #image counter\n",
    "folder = 'bigrams_images/test' # path to the folder where the images are saved\n",
    "\n",
    "\n",
    "for img in images[1:]:\n",
    "    with open(folder+str(i)+'.jpeg', 'wb') as f:\n",
    "        f.write(requests.get(img['src']).content)\n",
    "        i+=1"
   ]
  },
  {
   "cell_type": "markdown",
   "metadata": {},
   "source": [
    "#### II. Image processing, obtaining vectors.\n",
    "\n",
    "This part includes obtaining vectors by image processing\n"
   ]
  },
  {
   "cell_type": "code",
   "execution_count": 7,
   "metadata": {
    "collapsed": true
   },
   "outputs": [],
   "source": [
    "from scipy.misc import imresize\n",
    "import matplotlib.pyplot as plt\n",
    "\n",
    "%matplotlib inline"
   ]
  },
  {
   "cell_type": "code",
   "execution_count": 8,
   "metadata": {
    "collapsed": true
   },
   "outputs": [],
   "source": [
    "from PIL import Image"
   ]
  },
  {
   "cell_type": "code",
   "execution_count": 9,
   "metadata": {
    "collapsed": true
   },
   "outputs": [],
   "source": [
    "import numpy as np"
   ]
  },
  {
   "cell_type": "code",
   "execution_count": 10,
   "metadata": {
    "collapsed": true
   },
   "outputs": [],
   "source": [
    "from scipy.spatial import distance"
   ]
  },
  {
   "cell_type": "markdown",
   "metadata": {},
   "source": [
    "Get vectors from color images:"
   ]
  },
  {
   "cell_type": "code",
   "execution_count": 11,
   "metadata": {
    "collapsed": true
   },
   "outputs": [],
   "source": [
    "test_sample = ['снег', 'свет', 'звезда', 'цена', 'лист', 'человек', 'температура', 'уровень', 'самолет', 'капля', 'тень', 'скорость']"
   ]
  },
  {
   "cell_type": "code",
   "execution_count": 58,
   "metadata": {},
   "outputs": [
    {
     "name": "stderr",
     "output_type": "stream",
     "text": [
      "/Users/kata/anaconda/lib/python3.6/site-packages/scipy/misc/pilutil.py:482: FutureWarning: Conversion of the second argument of issubdtype from `int` to `np.signedinteger` is deprecated. In future, it will be treated as `np.int64 == np.dtype(int).type`.\n",
      "  if issubdtype(ts, int):\n",
      "/Users/kata/anaconda/lib/python3.6/site-packages/scipy/misc/pilutil.py:485: FutureWarning: Conversion of the second argument of issubdtype from `float` to `np.floating` is deprecated. In future, it will be treated as `np.float64 == np.dtype(float).type`.\n",
      "  elif issubdtype(type(size), float):\n"
     ]
    }
   ],
   "source": [
    "vectors = []\n",
    "data  = []\n",
    "folder = 'bigrams_images/'\n",
    "\n",
    "for bigram in os.listdir(folder)[2:]:\n",
    "    for image in os.listdir(folder+bigram):\n",
    "        if (image != '.ipynb_checkpoints'):\n",
    "            img = Image.open(folder+bigram+'/'+image)\n",
    "            img_resized = imresize(img, (100, 100))\n",
    "            if (len(np.ravel(np.asarray(img_resized, dtype='uint8'))) == 30000):\n",
    "                vectors.append(np.ravel(np.asarray(img_resized, dtype='uint8')))\n",
    "                data.append([bigram, image, np.ravel(np.asarray(img_resized, dtype='uint8'))])\n"
   ]
  },
  {
   "cell_type": "code",
   "execution_count": 59,
   "metadata": {},
   "outputs": [
    {
     "data": {
      "text/plain": [
       "1745"
      ]
     },
     "execution_count": 59,
     "metadata": {},
     "output_type": "execute_result"
    }
   ],
   "source": [
    "len(vectors)"
   ]
  },
  {
   "cell_type": "markdown",
   "metadata": {},
   "source": [
    "Get vectors from black and white images:"
   ]
  },
  {
   "cell_type": "code",
   "execution_count": 16,
   "metadata": {},
   "outputs": [
    {
     "name": "stderr",
     "output_type": "stream",
     "text": [
      "/Users/kata/anaconda/lib/python3.6/site-packages/scipy/misc/pilutil.py:482: FutureWarning: Conversion of the second argument of issubdtype from `int` to `np.signedinteger` is deprecated. In future, it will be treated as `np.int64 == np.dtype(int).type`.\n",
      "  if issubdtype(ts, int):\n",
      "/Users/kata/anaconda/lib/python3.6/site-packages/scipy/misc/pilutil.py:485: FutureWarning: Conversion of the second argument of issubdtype from `float` to `np.floating` is deprecated. In future, it will be treated as `np.float64 == np.dtype(float).type`.\n",
      "  elif issubdtype(type(size), float):\n"
     ]
    },
    {
     "name": "stdout",
     "output_type": "stream",
     "text": [
      "цена test244.jpeg\n",
      "цена test259.jpeg\n",
      "температура test288.jpeg\n",
      "температура test291.jpeg\n",
      "скорость test361.jpeg\n",
      "скорость test362.jpeg\n",
      "скорость test366.jpeg\n",
      "скорость test367.jpeg\n",
      "скорость test369.jpeg\n",
      "скорость test370.jpeg\n",
      "скорость test371.jpeg\n",
      "скорость test373.jpeg\n",
      "скорость test374.jpeg\n",
      "скорость test377.jpeg\n"
     ]
    }
   ],
   "source": [
    "vectors_bw = []\n",
    "data_bw  = []\n",
    "folder = 'bigrams_images/'\n",
    "\n",
    "for bigram in test_sample:\n",
    "    for image in os.listdir(folder+bigram):\n",
    "        if (image != '.ipynb_checkpoints'):\n",
    "            img = Image.open(folder+bigram+'/'+image)\n",
    "            img_resized = imresize(img, (100, 100))\n",
    "            arr = np.asarray(img_resized, dtype='uint8')\n",
    "            try:\n",
    "                x, y, _ = arr.shape\n",
    "                k = np.array([[[0.2989, 0.587, 0.114]]])\n",
    "                arr2 = np.round(np.sum(arr*k, axis=2)).astype(np.uint8).reshape((x, y))\n",
    "                if (len(np.ravel(arr2)) == 10000):\n",
    "                    vectors_bw.append(np.ravel(arr2))\n",
    "                    data_bw.append([bigram, image, np.ravel(arr2)])\n",
    "            except:\n",
    "                print(bigram, image)"
   ]
  },
  {
   "cell_type": "markdown",
   "metadata": {},
   "source": [
    "Get vectors closest to average vector:"
   ]
  },
  {
   "cell_type": "code",
   "execution_count": 66,
   "metadata": {},
   "outputs": [
    {
     "name": "stderr",
     "output_type": "stream",
     "text": [
      "/Users/kata/anaconda/lib/python3.6/site-packages/scipy/misc/pilutil.py:482: FutureWarning: Conversion of the second argument of issubdtype from `int` to `np.signedinteger` is deprecated. In future, it will be treated as `np.int64 == np.dtype(int).type`.\n",
      "  if issubdtype(ts, int):\n",
      "/Users/kata/anaconda/lib/python3.6/site-packages/scipy/misc/pilutil.py:485: FutureWarning: Conversion of the second argument of issubdtype from `float` to `np.floating` is deprecated. In future, it will be treated as `np.float64 == np.dtype(float).type`.\n",
      "  elif issubdtype(type(size), float):\n"
     ]
    }
   ],
   "source": [
    "data_mean = []\n",
    "vectors_mean = []\n",
    "folder = 'bigrams_images/'\n",
    "\n",
    "for bigram in os.listdir(folder)[2:]:\n",
    "    vect = []\n",
    "    arr = 0\n",
    "    for image in os.listdir(folder+bigram):\n",
    "        if (image != '.ipynb_checkpoints'):\n",
    "            img = Image.open('bigrams_images/'+bigram+'/'+image)\n",
    "            img_resized = imresize(img, (100, 100))\n",
    "            if (len(np.ravel(np.asarray(img_resized, dtype='uint8'))) == 30000):\n",
    "                arr+=np.ravel(np.asarray(img_resized, dtype='uint8'))\n",
    "                vect.append([bigram, image, np.ravel(np.asarray(img_resized, dtype='uint8'))])\n",
    "                \n",
    "    mean = arr/len(vect) #average vector\n",
    "    d = float ( \"inf\" )\n",
    "    for v in vect:\n",
    "        if abs(distance.cosine(v[2], mean)) < d:\n",
    "            d = abs(distance.cosine(v[2], mean))\n",
    "            res = v\n",
    "    data_mean.append(res)\n",
    "    vectors_mean.append (res[2])"
   ]
  },
  {
   "cell_type": "code",
   "execution_count": 16,
   "metadata": {},
   "outputs": [
    {
     "data": {
      "text/plain": [
       "12"
      ]
     },
     "execution_count": 16,
     "metadata": {},
     "output_type": "execute_result"
    }
   ],
   "source": [
    "len(vectors_mean)"
   ]
  },
  {
   "cell_type": "markdown",
   "metadata": {},
   "source": [
    "Saving data to the table:"
   ]
  },
  {
   "cell_type": "code",
   "execution_count": 19,
   "metadata": {
    "collapsed": true
   },
   "outputs": [],
   "source": [
    "import pandas as pd"
   ]
  },
  {
   "cell_type": "code",
   "execution_count": 68,
   "metadata": {},
   "outputs": [],
   "source": [
    "data_mean = pd.DataFrame(data_mean, columns=['word', 'path', 'vector'])"
   ]
  },
  {
   "cell_type": "code",
   "execution_count": 69,
   "metadata": {},
   "outputs": [
    {
     "data": {
      "text/html": [
       "<div>\n",
       "<style scoped>\n",
       "    .dataframe tbody tr th:only-of-type {\n",
       "        vertical-align: middle;\n",
       "    }\n",
       "\n",
       "    .dataframe tbody tr th {\n",
       "        vertical-align: top;\n",
       "    }\n",
       "\n",
       "    .dataframe thead th {\n",
       "        text-align: right;\n",
       "    }\n",
       "</style>\n",
       "<table border=\"1\" class=\"dataframe\">\n",
       "  <thead>\n",
       "    <tr style=\"text-align: right;\">\n",
       "      <th></th>\n",
       "      <th>word</th>\n",
       "      <th>path</th>\n",
       "      <th>vector</th>\n",
       "    </tr>\n",
       "  </thead>\n",
       "  <tbody>\n",
       "    <tr>\n",
       "      <th>0</th>\n",
       "      <td>активность</td>\n",
       "      <td>test1668.jpeg</td>\n",
       "      <td>[255, 255, 255, 255, 255, 255, 255, 255, 255, ...</td>\n",
       "    </tr>\n",
       "    <tr>\n",
       "      <th>1</th>\n",
       "      <td>акция</td>\n",
       "      <td>test1461.jpeg</td>\n",
       "      <td>[252, 252, 252, 255, 255, 255, 251, 251, 251, ...</td>\n",
       "    </tr>\n",
       "    <tr>\n",
       "      <th>2</th>\n",
       "      <td>барометр</td>\n",
       "      <td>test1924.jpeg</td>\n",
       "      <td>[255, 255, 255, 255, 255, 255, 255, 255, 255, ...</td>\n",
       "    </tr>\n",
       "    <tr>\n",
       "      <th>3</th>\n",
       "      <td>башня</td>\n",
       "      <td>test1406.jpeg</td>\n",
       "      <td>[158, 185, 215, 157, 184, 214, 157, 184, 214, ...</td>\n",
       "    </tr>\n",
       "    <tr>\n",
       "      <th>4</th>\n",
       "      <td>бомба</td>\n",
       "      <td>test439.jpeg</td>\n",
       "      <td>[250, 250, 250, 253, 253, 253, 253, 253, 253, ...</td>\n",
       "    </tr>\n",
       "  </tbody>\n",
       "</table>\n",
       "</div>"
      ],
      "text/plain": [
       "         word           path  \\\n",
       "0  активность  test1668.jpeg   \n",
       "1       акция  test1461.jpeg   \n",
       "2    барометр  test1924.jpeg   \n",
       "3       башня  test1406.jpeg   \n",
       "4       бомба   test439.jpeg   \n",
       "\n",
       "                                              vector  \n",
       "0  [255, 255, 255, 255, 255, 255, 255, 255, 255, ...  \n",
       "1  [252, 252, 252, 255, 255, 255, 251, 251, 251, ...  \n",
       "2  [255, 255, 255, 255, 255, 255, 255, 255, 255, ...  \n",
       "3  [158, 185, 215, 157, 184, 214, 157, 184, 214, ...  \n",
       "4  [250, 250, 250, 253, 253, 253, 253, 253, 253, ...  "
      ]
     },
     "execution_count": 69,
     "metadata": {},
     "output_type": "execute_result"
    }
   ],
   "source": [
    "data_mean.head()"
   ]
  },
  {
   "cell_type": "markdown",
   "metadata": {},
   "source": [
    "#### III. Clusterisation"
   ]
  },
  {
   "cell_type": "code",
   "execution_count": 23,
   "metadata": {
    "collapsed": true
   },
   "outputs": [],
   "source": [
    "from sklearn.cluster import AffinityPropagation"
   ]
  },
  {
   "cell_type": "code",
   "execution_count": 24,
   "metadata": {
    "collapsed": true
   },
   "outputs": [],
   "source": [
    "clustering = AffinityPropagation().fit(np.array(vectors))"
   ]
  },
  {
   "cell_type": "code",
   "execution_count": 25,
   "metadata": {
    "collapsed": true
   },
   "outputs": [],
   "source": [
    "centers = clustering.cluster_centers_\n",
    "\n",
    "num = len(centers)  + 1\n",
    "\n",
    "#for i in range(1, num):\n",
    "#    plt.subplot(11, 2, i)\n",
    " #   img = np.reshape(centers[i-1, :], (100, 300))\n",
    " #   plt.imshow(img, cmap='Greys')\n",
    " #   plt.axis(\"off\")\n",
    " #   plt.grid(None)"
   ]
  },
  {
   "cell_type": "code",
   "execution_count": 26,
   "metadata": {},
   "outputs": [
    {
     "data": {
      "text/plain": [
       "13"
      ]
     },
     "execution_count": 26,
     "metadata": {},
     "output_type": "execute_result"
    }
   ],
   "source": [
    "len(centers)"
   ]
  },
  {
   "cell_type": "code",
   "execution_count": 32,
   "metadata": {},
   "outputs": [
    {
     "data": {
      "image/png": "[encoded data removed]",
      "text/plain": [
       "<matplotlib.figure.Figure at 0x120ac3a58>"
      ]
     },
     "metadata": {},
     "output_type": "display_data"
    }
   ],
   "source": [
    "center = np.reshape(centers[8], (100, 300))\n",
    "plt.imshow(center, cmap='Greys')\n",
    "plt.grid(None)"
   ]
  },
  {
   "cell_type": "code",
   "execution_count": 33,
   "metadata": {
    "collapsed": true
   },
   "outputs": [],
   "source": [
    "data['class'] = clustering.labels_"
   ]
  },
  {
   "cell_type": "code",
   "execution_count": 34,
   "metadata": {},
   "outputs": [
    {
     "data": {
      "text/html": [
       "<div>\n",
       "<style scoped>\n",
       "    .dataframe tbody tr th:only-of-type {\n",
       "        vertical-align: middle;\n",
       "    }\n",
       "\n",
       "    .dataframe tbody tr th {\n",
       "        vertical-align: top;\n",
       "    }\n",
       "\n",
       "    .dataframe thead th {\n",
       "        text-align: right;\n",
       "    }\n",
       "</style>\n",
       "<table border=\"1\" class=\"dataframe\">\n",
       "  <thead>\n",
       "    <tr style=\"text-align: right;\">\n",
       "      <th></th>\n",
       "      <th>word</th>\n",
       "      <th>path</th>\n",
       "      <th>vector</th>\n",
       "      <th>class</th>\n",
       "    </tr>\n",
       "  </thead>\n",
       "  <tbody>\n",
       "    <tr>\n",
       "      <th>0</th>\n",
       "      <td>снег</td>\n",
       "      <td>test101.jpeg</td>\n",
       "      <td>[42, 33, 34, 87, 78, 80, 116, 107, 111, 91, 81...</td>\n",
       "      <td>5</td>\n",
       "    </tr>\n",
       "    <tr>\n",
       "      <th>1</th>\n",
       "      <td>снег</td>\n",
       "      <td>test102.jpeg</td>\n",
       "      <td>[77, 137, 199, 79, 139, 201, 77, 137, 199, 76,...</td>\n",
       "      <td>8</td>\n",
       "    </tr>\n",
       "    <tr>\n",
       "      <th>2</th>\n",
       "      <td>снег</td>\n",
       "      <td>test103.jpeg</td>\n",
       "      <td>[155, 164, 161, 154, 163, 160, 155, 164, 161, ...</td>\n",
       "      <td>8</td>\n",
       "    </tr>\n",
       "    <tr>\n",
       "      <th>3</th>\n",
       "      <td>снег</td>\n",
       "      <td>test104.jpeg</td>\n",
       "      <td>[42, 36, 36, 53, 47, 47, 69, 63, 63, 71, 65, 6...</td>\n",
       "      <td>5</td>\n",
       "    </tr>\n",
       "    <tr>\n",
       "      <th>4</th>\n",
       "      <td>снег</td>\n",
       "      <td>test105.jpeg</td>\n",
       "      <td>[230, 204, 177, 239, 213, 186, 253, 230, 203, ...</td>\n",
       "      <td>5</td>\n",
       "    </tr>\n",
       "  </tbody>\n",
       "</table>\n",
       "</div>"
      ],
      "text/plain": [
       "   word          path                                             vector  \\\n",
       "0  снег  test101.jpeg  [42, 33, 34, 87, 78, 80, 116, 107, 111, 91, 81...   \n",
       "1  снег  test102.jpeg  [77, 137, 199, 79, 139, 201, 77, 137, 199, 76,...   \n",
       "2  снег  test103.jpeg  [155, 164, 161, 154, 163, 160, 155, 164, 161, ...   \n",
       "3  снег  test104.jpeg  [42, 36, 36, 53, 47, 47, 69, 63, 63, 71, 65, 6...   \n",
       "4  снег  test105.jpeg  [230, 204, 177, 239, 213, 186, 253, 230, 203, ...   \n",
       "\n",
       "   class  \n",
       "0      5  \n",
       "1      8  \n",
       "2      8  \n",
       "3      5  \n",
       "4      5  "
      ]
     },
     "execution_count": 34,
     "metadata": {},
     "output_type": "execute_result"
    }
   ],
   "source": [
    "data.head()"
   ]
  },
  {
   "cell_type": "markdown",
   "metadata": {},
   "source": [
    "The distribution of images in the clusters folder:"
   ]
  },
  {
   "cell_type": "code",
   "execution_count": 92,
   "metadata": {
    "collapsed": true
   },
   "outputs": [],
   "source": [
    "import shutil"
   ]
  },
  {
   "cell_type": "code",
   "execution_count": 56,
   "metadata": {
    "collapsed": true
   },
   "outputs": [],
   "source": [
    "data['new_path'] = data['word'] + '/' + data['path']"
   ]
  },
  {
   "cell_type": "code",
   "execution_count": 372,
   "metadata": {
    "collapsed": true
   },
   "outputs": [],
   "source": [
    "source = 'bigrams_images/'\n",
    "dest = 'with_text/'\n",
    "\n",
    "for i in range(1, num):\n",
    "    os.makedirs(dest+str(i))\n",
    "    for path in data[data['text_class'] == i-1]['new_path']:\n",
    "        shutil.move(source+path, dest+str(i))"
   ]
  },
  {
   "cell_type": "markdown",
   "metadata": {
    "collapsed": true
   },
   "source": [
    "Testing other clustering:"
   ]
  },
  {
   "cell_type": "code",
   "execution_count": 551,
   "metadata": {
    "collapsed": true
   },
   "outputs": [],
   "source": [
    "from sklearn.cluster import MeanShift\n",
    "clustering = MeanShift().fit(np.array(vectors))"
   ]
  },
  {
   "cell_type": "code",
   "execution_count": 553,
   "metadata": {},
   "outputs": [
    {
     "data": {
      "text/plain": [
       "4"
      ]
     },
     "execution_count": 553,
     "metadata": {},
     "output_type": "execute_result"
    }
   ],
   "source": [
    "len(clustering.cluster_centers_)"
   ]
  },
  {
   "cell_type": "code",
   "execution_count": null,
   "metadata": {
    "collapsed": true
   },
   "outputs": [],
   "source": []
  },
  {
   "cell_type": "markdown",
   "metadata": {
    "collapsed": true
   },
   "source": [
    "#### IV. Combinig text and image vectors"
   ]
  },
  {
   "cell_type": "code",
   "execution_count": 14,
   "metadata": {
    "collapsed": true
   },
   "outputs": [],
   "source": [
    "f = open('falling_text vectors/falling_wa_ppmi_300_MAC.dm', 'r')"
   ]
  },
  {
   "cell_type": "code",
   "execution_count": 15,
   "metadata": {
    "collapsed": true
   },
   "outputs": [],
   "source": [
    "a = f.readlines()"
   ]
  },
  {
   "cell_type": "code",
   "execution_count": 16,
   "metadata": {
    "collapsed": true
   },
   "outputs": [],
   "source": [
    "vectors_text = [] #getting vectors for the bigrams with the verb падать 'to fall'\n",
    "for line in a:\n",
    "    if line.startswith('падать'):\n",
    "        w = line.split('\\t')\n",
    "        vectors_text.append([w[0], w[1:]])"
   ]
  },
  {
   "cell_type": "markdown",
   "metadata": {},
   "source": [
    "Reducing the size of image vectors using SVD method:"
   ]
  },
  {
   "cell_type": "code",
   "execution_count": 17,
   "metadata": {},
   "outputs": [
    {
     "name": "stderr",
     "output_type": "stream",
     "text": [
      "/Users/kata/anaconda/lib/python3.6/site-packages/scipy/misc/pilutil.py:482: FutureWarning: Conversion of the second argument of issubdtype from `int` to `np.signedinteger` is deprecated. In future, it will be treated as `np.int64 == np.dtype(int).type`.\n",
      "  if issubdtype(ts, int):\n",
      "/Users/kata/anaconda/lib/python3.6/site-packages/scipy/misc/pilutil.py:485: FutureWarning: Conversion of the second argument of issubdtype from `float` to `np.floating` is deprecated. In future, it will be treated as `np.float64 == np.dtype(float).type`.\n",
      "  elif issubdtype(type(size), float):\n"
     ]
    },
    {
     "data": {
      "text/plain": [
       "TruncatedSVD(algorithm='randomized', n_components=300, n_iter=5,\n",
       "       random_state=None, tol=0.0)"
      ]
     },
     "execution_count": 17,
     "metadata": {},
     "output_type": "execute_result"
    }
   ],
   "source": [
    "from sklearn.decomposition import TruncatedSVD, NMF, PCA\n",
    "\n",
    "\n",
    "ex = Image.open('bigrams_images/снег/test101.jpeg')\n",
    "ex_resized = imresize(ex, (100, 100))\n",
    "\n",
    "arr = np.asarray(ex_resized, dtype='uint8')\n",
    "\n",
    "ex = np.ravel(arr).reshape(10, 3000)\n",
    "\n",
    "svd_cv = TruncatedSVD(300)\n",
    "svd_cv.fit(ex)"
   ]
  },
  {
   "cell_type": "code",
   "execution_count": 70,
   "metadata": {},
   "outputs": [
    {
     "data": {
      "text/html": [
       "<div>\n",
       "<style scoped>\n",
       "    .dataframe tbody tr th:only-of-type {\n",
       "        vertical-align: middle;\n",
       "    }\n",
       "\n",
       "    .dataframe tbody tr th {\n",
       "        vertical-align: top;\n",
       "    }\n",
       "\n",
       "    .dataframe thead th {\n",
       "        text-align: right;\n",
       "    }\n",
       "</style>\n",
       "<table border=\"1\" class=\"dataframe\">\n",
       "  <thead>\n",
       "    <tr style=\"text-align: right;\">\n",
       "      <th></th>\n",
       "      <th>word</th>\n",
       "      <th>path</th>\n",
       "      <th>vector</th>\n",
       "      <th>new_vector</th>\n",
       "    </tr>\n",
       "  </thead>\n",
       "  <tbody>\n",
       "    <tr>\n",
       "      <th>0</th>\n",
       "      <td>активность</td>\n",
       "      <td>test1668.jpeg</td>\n",
       "      <td>[255, 255, 255, 255, 255, 255, 255, 255, 255, ...</td>\n",
       "      <td>[13568.1043693384, 593.9698671458054, -815.941...</td>\n",
       "    </tr>\n",
       "    <tr>\n",
       "      <th>1</th>\n",
       "      <td>акция</td>\n",
       "      <td>test1461.jpeg</td>\n",
       "      <td>[252, 252, 252, 255, 255, 255, 251, 251, 251, ...</td>\n",
       "      <td>[13589.554582204066, 647.8511227799846, -479.6...</td>\n",
       "    </tr>\n",
       "    <tr>\n",
       "      <th>2</th>\n",
       "      <td>барометр</td>\n",
       "      <td>test1924.jpeg</td>\n",
       "      <td>[255, 255, 255, 255, 255, 255, 255, 255, 255, ...</td>\n",
       "      <td>[13226.6630934473, 776.2583789397105, -1174.43...</td>\n",
       "    </tr>\n",
       "    <tr>\n",
       "      <th>3</th>\n",
       "      <td>башня</td>\n",
       "      <td>test1406.jpeg</td>\n",
       "      <td>[158, 185, 215, 157, 184, 214, 157, 184, 214, ...</td>\n",
       "      <td>[9383.14725606734, 441.8638509978185, -177.378...</td>\n",
       "    </tr>\n",
       "    <tr>\n",
       "      <th>4</th>\n",
       "      <td>бомба</td>\n",
       "      <td>test439.jpeg</td>\n",
       "      <td>[250, 250, 250, 253, 253, 253, 253, 253, 253, ...</td>\n",
       "      <td>[12505.30540562911, 680.7588161295664, -566.02...</td>\n",
       "    </tr>\n",
       "  </tbody>\n",
       "</table>\n",
       "</div>"
      ],
      "text/plain": [
       "         word           path  \\\n",
       "0  активность  test1668.jpeg   \n",
       "1       акция  test1461.jpeg   \n",
       "2    барометр  test1924.jpeg   \n",
       "3       башня  test1406.jpeg   \n",
       "4       бомба   test439.jpeg   \n",
       "\n",
       "                                              vector  \\\n",
       "0  [255, 255, 255, 255, 255, 255, 255, 255, 255, ...   \n",
       "1  [252, 252, 252, 255, 255, 255, 251, 251, 251, ...   \n",
       "2  [255, 255, 255, 255, 255, 255, 255, 255, 255, ...   \n",
       "3  [158, 185, 215, 157, 184, 214, 157, 184, 214, ...   \n",
       "4  [250, 250, 250, 253, 253, 253, 253, 253, 253, ...   \n",
       "\n",
       "                                          new_vector  \n",
       "0  [13568.1043693384, 593.9698671458054, -815.941...  \n",
       "1  [13589.554582204066, 647.8511227799846, -479.6...  \n",
       "2  [13226.6630934473, 776.2583789397105, -1174.43...  \n",
       "3  [9383.14725606734, 441.8638509978185, -177.378...  \n",
       "4  [12505.30540562911, 680.7588161295664, -566.02...  "
      ]
     },
     "execution_count": 70,
     "metadata": {},
     "output_type": "execute_result"
    }
   ],
   "source": [
    "new_vectors = [] #collecting reduced vectors\n",
    "for vector in data_mean.vector:\n",
    "    new_vector = svd_cv.transform(vector.reshape(10, 3000))\n",
    "    new_vectors.append(np.ravel(new_vector))\n",
    "\n",
    "len(new_vectors)\n",
    "\n",
    "data_mean['new_vector'] = new_vectors\n",
    "\n",
    "data_mean.head()"
   ]
  },
  {
   "cell_type": "markdown",
   "metadata": {},
   "source": [
    "For combining images with text:"
   ]
  },
  {
   "cell_type": "code",
   "execution_count": 45,
   "metadata": {},
   "outputs": [],
   "source": [
    "final_vectors = []\n",
    "final_data = []\n",
    "\n",
    "for word in test_sample:\n",
    "    for img in data[data['word'] == word]['new_vector']:\n",
    "        for vector in vectors_text:\n",
    "            if word == vector[0][7:]:\n",
    "                text_vector = np.array(vector[1])\n",
    "                final_vectors.append(np.concatenate((img, text_vector), axis = 0))\n",
    "                final_data.append([word, np.concatenate((img, text_vector), axis = 0)])"
   ]
  },
  {
   "cell_type": "markdown",
   "metadata": {},
   "source": [
    "For combining text with images:"
   ]
  },
  {
   "cell_type": "code",
   "execution_count": 71,
   "metadata": {},
   "outputs": [],
   "source": [
    "final_vectors = []\n",
    "final_data = []\n",
    "text_vectors = []\n",
    "\n",
    "for vector in vectors_text:\n",
    "    word = vector[0][7:]\n",
    "    for img in data_mean[data_mean['word'] == word]['new_vector']:\n",
    "        text_vector = np.array(vector[1]) \n",
    "        text_vectors.append(text_vector)\n",
    "        final_vectors.append(np.concatenate((img, text_vector), axis = 0))\n",
    "        final_data.append([word, np.concatenate((img, text_vector), axis = 0)])\n",
    "        "
   ]
  },
  {
   "cell_type": "code",
   "execution_count": 72,
   "metadata": {
    "collapsed": true
   },
   "outputs": [],
   "source": [
    "final_data = pd.DataFrame(final_data, columns=['word', 'vector'])"
   ]
  },
  {
   "cell_type": "code",
   "execution_count": 31,
   "metadata": {
    "collapsed": true
   },
   "outputs": [],
   "source": [
    "from sklearn.cluster import AffinityPropagation"
   ]
  },
  {
   "cell_type": "code",
   "execution_count": 87,
   "metadata": {
    "collapsed": true
   },
   "outputs": [],
   "source": [
    "clustering = AffinityPropagation().fit(np.array(text_vectors))"
   ]
  },
  {
   "cell_type": "code",
   "execution_count": 88,
   "metadata": {
    "collapsed": true
   },
   "outputs": [],
   "source": [
    "centers = clustering.cluster_centers_"
   ]
  },
  {
   "cell_type": "code",
   "execution_count": 89,
   "metadata": {},
   "outputs": [
    {
     "data": {
      "text/plain": [
       "13"
      ]
     },
     "execution_count": 89,
     "metadata": {},
     "output_type": "execute_result"
    }
   ],
   "source": [
    "len(centers)"
   ]
  },
  {
   "cell_type": "code",
   "execution_count": 90,
   "metadata": {
    "collapsed": true
   },
   "outputs": [],
   "source": [
    "final_data['text_class'] = clustering.labels_"
   ]
  },
  {
   "cell_type": "code",
   "execution_count": 103,
   "metadata": {},
   "outputs": [
    {
     "name": "stdout",
     "output_type": "stream",
     "text": [
      "мужик\n",
      "солдат\n",
      "лошадь\n"
     ]
    }
   ],
   "source": [
    "for word in final_data[final_data['text_class'] == 12]['word']:\n",
    "    print(word)"
   ]
  },
  {
   "cell_type": "code",
   "execution_count": null,
   "metadata": {
    "collapsed": true
   },
   "outputs": [],
   "source": []
  }
 ],
 "metadata": {
  "kernelspec": {
   "display_name": "Python 3",
   "language": "python",
   "name": "python3"
  },
  "language_info": {
   "codemirror_mode": {
    "name": "ipython",
    "version": 3
   },
   "file_extension": ".py",
   "mimetype": "text/x-python",
   "name": "python",
   "nbconvert_exporter": "python",
   "pygments_lexer": "ipython3",
   "version": "3.6.1"
  }
 },
 "nbformat": 4,
 "nbformat_minor": 2
}
